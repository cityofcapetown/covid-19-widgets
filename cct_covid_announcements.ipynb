{
 "cells": [
  {
   "cell_type": "code",
   "execution_count": 1,
   "metadata": {},
   "outputs": [],
   "source": [
    "import pandas as pd\n",
    "import plotly.express as px\n",
    "import numpy as np\n",
    "import math\n",
    "from bokeh.io import output_file, show, output_notebook\n",
    "from bokeh.core.properties import Instance\n",
    "from bokeh.models import ColumnDataSource, TapTool, OpenURL\n",
    "from bokeh.palettes import Dark2\n",
    "from bokeh.plotting import figure\n",
    "from bokeh.transform import factor_cmap\n",
    "from bokeh.models import NumeralTickFormatter,  DatetimeTickFormatter, DaysTicker, FuncTickFormatter,  HoverTool, formatters, FactorRange, FixedTicker, DaysTicker"
   ]
  },
  {
   "cell_type": "code",
   "execution_count": 2,
   "metadata": {
    "collapsed": true,
    "jupyter": {
     "outputs_hidden": true
    }
   },
   "outputs": [
    {
     "ename": "FileNotFoundError",
     "evalue": "[Errno 2] No such file or directory: 'data/covid_19 announcements.xlsx'",
     "output_type": "error",
     "traceback": [
      "\u001b[0;31m---------------------------------------------------------------------------\u001b[0m",
      "\u001b[0;31mFileNotFoundError\u001b[0m                         Traceback (most recent call last)",
      "\u001b[0;32m<ipython-input-2-c10b401c3b3a>\u001b[0m in \u001b[0;36m<module>\u001b[0;34m\u001b[0m\n\u001b[1;32m      1\u001b[0m \u001b[0mpd\u001b[0m\u001b[0;34m.\u001b[0m\u001b[0mset_option\u001b[0m\u001b[0;34m(\u001b[0m\u001b[0;34m'display.max_columns'\u001b[0m\u001b[0;34m,\u001b[0m \u001b[0;32mNone\u001b[0m\u001b[0;34m)\u001b[0m\u001b[0;34m\u001b[0m\u001b[0;34m\u001b[0m\u001b[0m\n\u001b[0;32m----> 2\u001b[0;31m \u001b[0mdf_event\u001b[0m \u001b[0;34m=\u001b[0m \u001b[0mpd\u001b[0m\u001b[0;34m.\u001b[0m\u001b[0mread_excel\u001b[0m\u001b[0;34m(\u001b[0m\u001b[0;34m'data/covid_19 announcements.xlsx'\u001b[0m\u001b[0;34m,\u001b[0m \u001b[0msheet_name\u001b[0m \u001b[0;34m=\u001b[0m \u001b[0;34m\"Key announcements\"\u001b[0m\u001b[0;34m)\u001b[0m\u001b[0;34m\u001b[0m\u001b[0;34m\u001b[0m\u001b[0m\n\u001b[0m",
      "\u001b[0;32m/usr/local/lib/python3.6/dist-packages/pandas/util/_decorators.py\u001b[0m in \u001b[0;36mwrapper\u001b[0;34m(*args, **kwargs)\u001b[0m\n\u001b[1;32m    206\u001b[0m                 \u001b[0;32melse\u001b[0m\u001b[0;34m:\u001b[0m\u001b[0;34m\u001b[0m\u001b[0;34m\u001b[0m\u001b[0m\n\u001b[1;32m    207\u001b[0m                     \u001b[0mkwargs\u001b[0m\u001b[0;34m[\u001b[0m\u001b[0mnew_arg_name\u001b[0m\u001b[0;34m]\u001b[0m \u001b[0;34m=\u001b[0m \u001b[0mnew_arg_value\u001b[0m\u001b[0;34m\u001b[0m\u001b[0;34m\u001b[0m\u001b[0m\n\u001b[0;32m--> 208\u001b[0;31m             \u001b[0;32mreturn\u001b[0m \u001b[0mfunc\u001b[0m\u001b[0;34m(\u001b[0m\u001b[0;34m*\u001b[0m\u001b[0margs\u001b[0m\u001b[0;34m,\u001b[0m \u001b[0;34m**\u001b[0m\u001b[0mkwargs\u001b[0m\u001b[0;34m)\u001b[0m\u001b[0;34m\u001b[0m\u001b[0;34m\u001b[0m\u001b[0m\n\u001b[0m\u001b[1;32m    209\u001b[0m \u001b[0;34m\u001b[0m\u001b[0m\n\u001b[1;32m    210\u001b[0m         \u001b[0;32mreturn\u001b[0m \u001b[0mwrapper\u001b[0m\u001b[0;34m\u001b[0m\u001b[0;34m\u001b[0m\u001b[0m\n",
      "\u001b[0;32m/usr/local/lib/python3.6/dist-packages/pandas/io/excel/_base.py\u001b[0m in \u001b[0;36mread_excel\u001b[0;34m(io, sheet_name, header, names, index_col, usecols, squeeze, dtype, engine, converters, true_values, false_values, skiprows, nrows, na_values, keep_default_na, verbose, parse_dates, date_parser, thousands, comment, skip_footer, skipfooter, convert_float, mangle_dupe_cols, **kwds)\u001b[0m\n\u001b[1;32m    308\u001b[0m \u001b[0;34m\u001b[0m\u001b[0m\n\u001b[1;32m    309\u001b[0m     \u001b[0;32mif\u001b[0m \u001b[0;32mnot\u001b[0m \u001b[0misinstance\u001b[0m\u001b[0;34m(\u001b[0m\u001b[0mio\u001b[0m\u001b[0;34m,\u001b[0m \u001b[0mExcelFile\u001b[0m\u001b[0;34m)\u001b[0m\u001b[0;34m:\u001b[0m\u001b[0;34m\u001b[0m\u001b[0;34m\u001b[0m\u001b[0m\n\u001b[0;32m--> 310\u001b[0;31m         \u001b[0mio\u001b[0m \u001b[0;34m=\u001b[0m \u001b[0mExcelFile\u001b[0m\u001b[0;34m(\u001b[0m\u001b[0mio\u001b[0m\u001b[0;34m,\u001b[0m \u001b[0mengine\u001b[0m\u001b[0;34m=\u001b[0m\u001b[0mengine\u001b[0m\u001b[0;34m)\u001b[0m\u001b[0;34m\u001b[0m\u001b[0;34m\u001b[0m\u001b[0m\n\u001b[0m\u001b[1;32m    311\u001b[0m     \u001b[0;32melif\u001b[0m \u001b[0mengine\u001b[0m \u001b[0;32mand\u001b[0m \u001b[0mengine\u001b[0m \u001b[0;34m!=\u001b[0m \u001b[0mio\u001b[0m\u001b[0;34m.\u001b[0m\u001b[0mengine\u001b[0m\u001b[0;34m:\u001b[0m\u001b[0;34m\u001b[0m\u001b[0;34m\u001b[0m\u001b[0m\n\u001b[1;32m    312\u001b[0m         raise ValueError(\n",
      "\u001b[0;32m/usr/local/lib/python3.6/dist-packages/pandas/io/excel/_base.py\u001b[0m in \u001b[0;36m__init__\u001b[0;34m(self, io, engine)\u001b[0m\n\u001b[1;32m    817\u001b[0m         \u001b[0mself\u001b[0m\u001b[0;34m.\u001b[0m\u001b[0m_io\u001b[0m \u001b[0;34m=\u001b[0m \u001b[0m_stringify_path\u001b[0m\u001b[0;34m(\u001b[0m\u001b[0mio\u001b[0m\u001b[0;34m)\u001b[0m\u001b[0;34m\u001b[0m\u001b[0;34m\u001b[0m\u001b[0m\n\u001b[1;32m    818\u001b[0m \u001b[0;34m\u001b[0m\u001b[0m\n\u001b[0;32m--> 819\u001b[0;31m         \u001b[0mself\u001b[0m\u001b[0;34m.\u001b[0m\u001b[0m_reader\u001b[0m \u001b[0;34m=\u001b[0m \u001b[0mself\u001b[0m\u001b[0;34m.\u001b[0m\u001b[0m_engines\u001b[0m\u001b[0;34m[\u001b[0m\u001b[0mengine\u001b[0m\u001b[0;34m]\u001b[0m\u001b[0;34m(\u001b[0m\u001b[0mself\u001b[0m\u001b[0;34m.\u001b[0m\u001b[0m_io\u001b[0m\u001b[0;34m)\u001b[0m\u001b[0;34m\u001b[0m\u001b[0;34m\u001b[0m\u001b[0m\n\u001b[0m\u001b[1;32m    820\u001b[0m \u001b[0;34m\u001b[0m\u001b[0m\n\u001b[1;32m    821\u001b[0m     \u001b[0;32mdef\u001b[0m \u001b[0m__fspath__\u001b[0m\u001b[0;34m(\u001b[0m\u001b[0mself\u001b[0m\u001b[0;34m)\u001b[0m\u001b[0;34m:\u001b[0m\u001b[0;34m\u001b[0m\u001b[0;34m\u001b[0m\u001b[0m\n",
      "\u001b[0;32m/usr/local/lib/python3.6/dist-packages/pandas/io/excel/_xlrd.py\u001b[0m in \u001b[0;36m__init__\u001b[0;34m(self, filepath_or_buffer)\u001b[0m\n\u001b[1;32m     19\u001b[0m         \u001b[0merr_msg\u001b[0m \u001b[0;34m=\u001b[0m \u001b[0;34m\"Install xlrd >= 1.0.0 for Excel support\"\u001b[0m\u001b[0;34m\u001b[0m\u001b[0;34m\u001b[0m\u001b[0m\n\u001b[1;32m     20\u001b[0m         \u001b[0mimport_optional_dependency\u001b[0m\u001b[0;34m(\u001b[0m\u001b[0;34m\"xlrd\"\u001b[0m\u001b[0;34m,\u001b[0m \u001b[0mextra\u001b[0m\u001b[0;34m=\u001b[0m\u001b[0merr_msg\u001b[0m\u001b[0;34m)\u001b[0m\u001b[0;34m\u001b[0m\u001b[0;34m\u001b[0m\u001b[0m\n\u001b[0;32m---> 21\u001b[0;31m         \u001b[0msuper\u001b[0m\u001b[0;34m(\u001b[0m\u001b[0;34m)\u001b[0m\u001b[0;34m.\u001b[0m\u001b[0m__init__\u001b[0m\u001b[0;34m(\u001b[0m\u001b[0mfilepath_or_buffer\u001b[0m\u001b[0;34m)\u001b[0m\u001b[0;34m\u001b[0m\u001b[0;34m\u001b[0m\u001b[0m\n\u001b[0m\u001b[1;32m     22\u001b[0m \u001b[0;34m\u001b[0m\u001b[0m\n\u001b[1;32m     23\u001b[0m     \u001b[0;34m@\u001b[0m\u001b[0mproperty\u001b[0m\u001b[0;34m\u001b[0m\u001b[0;34m\u001b[0m\u001b[0m\n",
      "\u001b[0;32m/usr/local/lib/python3.6/dist-packages/pandas/io/excel/_base.py\u001b[0m in \u001b[0;36m__init__\u001b[0;34m(self, filepath_or_buffer)\u001b[0m\n\u001b[1;32m    357\u001b[0m             \u001b[0mself\u001b[0m\u001b[0;34m.\u001b[0m\u001b[0mbook\u001b[0m \u001b[0;34m=\u001b[0m \u001b[0mself\u001b[0m\u001b[0;34m.\u001b[0m\u001b[0mload_workbook\u001b[0m\u001b[0;34m(\u001b[0m\u001b[0mfilepath_or_buffer\u001b[0m\u001b[0;34m)\u001b[0m\u001b[0;34m\u001b[0m\u001b[0;34m\u001b[0m\u001b[0m\n\u001b[1;32m    358\u001b[0m         \u001b[0;32melif\u001b[0m \u001b[0misinstance\u001b[0m\u001b[0;34m(\u001b[0m\u001b[0mfilepath_or_buffer\u001b[0m\u001b[0;34m,\u001b[0m \u001b[0mstr\u001b[0m\u001b[0;34m)\u001b[0m\u001b[0;34m:\u001b[0m\u001b[0;34m\u001b[0m\u001b[0;34m\u001b[0m\u001b[0m\n\u001b[0;32m--> 359\u001b[0;31m             \u001b[0mself\u001b[0m\u001b[0;34m.\u001b[0m\u001b[0mbook\u001b[0m \u001b[0;34m=\u001b[0m \u001b[0mself\u001b[0m\u001b[0;34m.\u001b[0m\u001b[0mload_workbook\u001b[0m\u001b[0;34m(\u001b[0m\u001b[0mfilepath_or_buffer\u001b[0m\u001b[0;34m)\u001b[0m\u001b[0;34m\u001b[0m\u001b[0;34m\u001b[0m\u001b[0m\n\u001b[0m\u001b[1;32m    360\u001b[0m         \u001b[0;32melse\u001b[0m\u001b[0;34m:\u001b[0m\u001b[0;34m\u001b[0m\u001b[0;34m\u001b[0m\u001b[0m\n\u001b[1;32m    361\u001b[0m             raise ValueError(\n",
      "\u001b[0;32m/usr/local/lib/python3.6/dist-packages/pandas/io/excel/_xlrd.py\u001b[0m in \u001b[0;36mload_workbook\u001b[0;34m(self, filepath_or_buffer)\u001b[0m\n\u001b[1;32m     34\u001b[0m             \u001b[0;32mreturn\u001b[0m \u001b[0mopen_workbook\u001b[0m\u001b[0;34m(\u001b[0m\u001b[0mfile_contents\u001b[0m\u001b[0;34m=\u001b[0m\u001b[0mdata\u001b[0m\u001b[0;34m)\u001b[0m\u001b[0;34m\u001b[0m\u001b[0;34m\u001b[0m\u001b[0m\n\u001b[1;32m     35\u001b[0m         \u001b[0;32melse\u001b[0m\u001b[0;34m:\u001b[0m\u001b[0;34m\u001b[0m\u001b[0;34m\u001b[0m\u001b[0m\n\u001b[0;32m---> 36\u001b[0;31m             \u001b[0;32mreturn\u001b[0m \u001b[0mopen_workbook\u001b[0m\u001b[0;34m(\u001b[0m\u001b[0mfilepath_or_buffer\u001b[0m\u001b[0;34m)\u001b[0m\u001b[0;34m\u001b[0m\u001b[0;34m\u001b[0m\u001b[0m\n\u001b[0m\u001b[1;32m     37\u001b[0m \u001b[0;34m\u001b[0m\u001b[0m\n\u001b[1;32m     38\u001b[0m     \u001b[0;34m@\u001b[0m\u001b[0mproperty\u001b[0m\u001b[0;34m\u001b[0m\u001b[0;34m\u001b[0m\u001b[0m\n",
      "\u001b[0;32m/usr/local/lib/python3.6/dist-packages/xlrd/__init__.py\u001b[0m in \u001b[0;36mopen_workbook\u001b[0;34m(filename, logfile, verbosity, use_mmap, file_contents, encoding_override, formatting_info, on_demand, ragged_rows)\u001b[0m\n\u001b[1;32m    109\u001b[0m     \u001b[0;32melse\u001b[0m\u001b[0;34m:\u001b[0m\u001b[0;34m\u001b[0m\u001b[0;34m\u001b[0m\u001b[0m\n\u001b[1;32m    110\u001b[0m         \u001b[0mfilename\u001b[0m \u001b[0;34m=\u001b[0m \u001b[0mos\u001b[0m\u001b[0;34m.\u001b[0m\u001b[0mpath\u001b[0m\u001b[0;34m.\u001b[0m\u001b[0mexpanduser\u001b[0m\u001b[0;34m(\u001b[0m\u001b[0mfilename\u001b[0m\u001b[0;34m)\u001b[0m\u001b[0;34m\u001b[0m\u001b[0;34m\u001b[0m\u001b[0m\n\u001b[0;32m--> 111\u001b[0;31m         \u001b[0;32mwith\u001b[0m \u001b[0mopen\u001b[0m\u001b[0;34m(\u001b[0m\u001b[0mfilename\u001b[0m\u001b[0;34m,\u001b[0m \u001b[0;34m\"rb\"\u001b[0m\u001b[0;34m)\u001b[0m \u001b[0;32mas\u001b[0m \u001b[0mf\u001b[0m\u001b[0;34m:\u001b[0m\u001b[0;34m\u001b[0m\u001b[0;34m\u001b[0m\u001b[0m\n\u001b[0m\u001b[1;32m    112\u001b[0m             \u001b[0mpeek\u001b[0m \u001b[0;34m=\u001b[0m \u001b[0mf\u001b[0m\u001b[0;34m.\u001b[0m\u001b[0mread\u001b[0m\u001b[0;34m(\u001b[0m\u001b[0mpeeksz\u001b[0m\u001b[0;34m)\u001b[0m\u001b[0;34m\u001b[0m\u001b[0;34m\u001b[0m\u001b[0m\n\u001b[1;32m    113\u001b[0m     \u001b[0;32mif\u001b[0m \u001b[0mpeek\u001b[0m \u001b[0;34m==\u001b[0m \u001b[0;34mb\"PK\\x03\\x04\"\u001b[0m\u001b[0;34m:\u001b[0m \u001b[0;31m# a ZIP file\u001b[0m\u001b[0;34m\u001b[0m\u001b[0;34m\u001b[0m\u001b[0m\n",
      "\u001b[0;31mFileNotFoundError\u001b[0m: [Errno 2] No such file or directory: 'data/covid_19 announcements.xlsx'"
     ]
    }
   ],
   "source": [
    "pd.set_option('display.max_columns', None)\n",
    "df_event = pd.read_excel('data/public/covid_key_announcements.csv')"
   ]
  },
  {
   "cell_type": "code",
   "execution_count": null,
   "metadata": {},
   "outputs": [],
   "source": [
    "df_event['Date'] =  pd.to_datetime(df_event['Date'], format='%d-%m-%Y')"
   ]
  },
  {
   "cell_type": "code",
   "execution_count": null,
   "metadata": {},
   "outputs": [],
   "source": [
    "df_event_sort = df_event.sort_values([\"Date\", \"Entity\"], ascending = (True, True))"
   ]
  },
  {
   "cell_type": "code",
   "execution_count": null,
   "metadata": {},
   "outputs": [],
   "source": [
    "df_event_sort['seq']=df_event_sort.groupby(['Date']).cumcount()\n",
    "df_event_sort['Date'] =  pd.to_datetime(df_event_sort['Date'], format='%d-%m-%Y')"
   ]
  },
  {
   "cell_type": "code",
   "execution_count": null,
   "metadata": {},
   "outputs": [],
   "source": [
    "new_customdatadf  = np.stack((df_event_sort['Decision_Title'], df_event_sort['Decision_Description'], df_event_sort['Link']), axis=-1)"
   ]
  },
  {
   "cell_type": "code",
   "execution_count": null,
   "metadata": {},
   "outputs": [],
   "source": [
    "output_notebook()"
   ]
  },
  {
   "cell_type": "code",
   "execution_count": 40,
   "metadata": {},
   "outputs": [
    {
     "data": {
      "text/html": [
       "\n",
       "\n",
       "\n",
       "\n",
       "\n",
       "\n",
       "  <div class=\"bk-root\" id=\"dd519dc8-a6fc-4f8d-80ff-ab66e0598577\" data-root-id=\"2540\"></div>\n"
      ]
     },
     "metadata": {},
     "output_type": "display_data"
    },
    {
     "data": {
      "application/javascript": [
       "(function(root) {\n",
       "  function embed_document(root) {\n",
       "    \n",
       "  var docs_json = {\"10ffdc64-6536-46cf-a8d1-4ccf895fa736\":{\"roots\":{\"references\":[{\"attributes\":{\"below\":[{\"id\":\"2550\",\"type\":\"DatetimeAxis\"}],\"center\":[{\"id\":\"2554\",\"type\":\"Grid\"},{\"id\":\"2559\",\"type\":\"Grid\"},{\"id\":\"2586\",\"type\":\"Legend\"}],\"left\":[{\"id\":\"2555\",\"type\":\"LinearAxis\"}],\"plot_height\":250,\"renderers\":[{\"id\":\"2567\",\"type\":\"GlyphRenderer\"}],\"sizing_mode\":\"stretch_width\",\"title\":null,\"toolbar\":{\"id\":\"2561\",\"type\":\"Toolbar\"},\"toolbar_location\":null,\"x_range\":{\"id\":\"2542\",\"type\":\"DataRange1d\"},\"x_scale\":{\"id\":\"2546\",\"type\":\"LinearScale\"},\"y_range\":{\"id\":\"2544\",\"type\":\"Range1d\"},\"y_scale\":{\"id\":\"2548\",\"type\":\"LinearScale\"}},\"id\":\"2540\",\"subtype\":\"Figure\",\"type\":\"Plot\"},{\"attributes\":{\"months\":[0,6]},\"id\":\"2584\",\"type\":\"MonthsTicker\"},{\"attributes\":{\"callback\":{\"id\":\"2611\",\"type\":\"OpenURL\"}},\"id\":\"2560\",\"type\":\"TapTool\"},{\"attributes\":{},\"id\":\"2585\",\"type\":\"YearsTicker\"},{\"attributes\":{\"active_drag\":\"auto\",\"active_inspect\":\"auto\",\"active_multi\":null,\"active_scroll\":\"auto\",\"active_tap\":\"auto\",\"tools\":[{\"id\":\"2560\",\"type\":\"TapTool\"},{\"id\":\"2592\",\"type\":\"HoverTool\"}]},\"id\":\"2561\",\"type\":\"Toolbar\"},{\"attributes\":{\"callback\":null,\"data\":{\"Date\":{\"__ndarray__\":\"AACA3n8Kd0IAAEDbGwx3QgAAQNsbDHdCAABA2xsMd0IAAABBbgx3QgAAAEFuDHdCAABAcmUNd0IAAADYtw13QgAAANi3DXdCAAAA2LcNd0IAAADYtw13QgAAANi3DXdCAAAA2LcNd0IAAADYtw13QgAAANi3DXdCAADAPQoOd0IAAMA9Cg53QgAAwD0KDndCAADAPQoOd0IAAMA9Cg53QgAAwD0KDndCAADAPQoOd0IAAMA9Cg53QgAAwD0KDndCAABACa8Od0IAAEAJrw53QgAAQAmvDndCAABACa8Od0IAAEAJrw53QgAAQAmvDndCAABACa8Od0IAAEAJrw53QgAAQAmvDndCAABACa8Od0IAAEAJrw53QgAAAG8BD3dCAADA1FMPd0IAAMDUUw93QgAAgDqmD3dCAACAOqYPd0IAAIA6pg93QgAAQKD4D3dCAAAABksQd0IAAAAGSxB3QgAAAAZLEHdCAAAABksQd0IAAAAGSxB3QgAAAAZLEHdCAAAABksQd0IAAAAGSxB3QgAAAAZLEHdCAAAABksQd0IAAAAGSxB3QgAAAAZLEHdCAAAABksQd0IAAAAGSxB3QgAAAAZLEHdCAAAABksQd0IAAMBrnRB3QgAAwGudEHdCAADAa50Qd0IAAMBrnRB3QgAAwGudEHdCAADAa50Qd0IAAMBrnRB3QgAAwGudEHdCAADAa50Qd0I=\",\"dtype\":\"float64\",\"shape\":[67]},\"Decision_Description\":[\"First local case of Covid-19 confirmed in KZN\",\"Employees with symptoms to stay at home, inform their line manager and take sick leave\",\"Posters will be displayed in all workplaces\",\"Medical guidance given\",\"Outbreak Response team activated with health authorities (including the CCT) alongside NICD\",\"Team is following up on all the known contacts of this patient \",\"Doctors no longer need approval to test for Covid-19 if they apply the case definition before testing\",\"Multiple restrictions put in place, including:\",\"Travel bans and advice\",\"Testing and self-isolation requirements\",\"Public gatherings restrictions\",\"School closure (18 March to Easter)\",\"Visits to all correctional facilities cancelled (30 days)\",\"Health guidelines\",\"Increasing capacity of health centres\",\"City to close facilities to contain spread of COVID-19, encourages use of online services where possible\",\"National Health Minister tasks provincial health MECs with locating potential isolation and quarantine sites for those that struggle to self-isolate (e.g. informal settlements)\",\"Screening facilities will be established at all taxi ranks, and taxis and trains expected to be sanitised \",\"Awareness programme will be launched in the public transport sector \",\"Heightened vigilance at airports \\u2013 incl. the provision of masks and gloves to staff dealing with travellers \",\"Discussions underway for private healthcare sector to support public system if necessary\",\"Government is working with businesses to ensure adequate medical provisions \",\"Armed forces hospitals establish isolation areas for Covid-19 patients and be ready to take patients from the public if directed \",\"Teachers required to remain at school until Friday, 20 March\",\"City closes Green Point Park and Company\\u2019s Garden\",\"Clinician Hotline to improve Covid-19 communication and support for healthcare providers\",\"Local Covid-19 scientists and experts apparently silenced as government centralises communication\",\"Several senior and experienced scientists state they were requested not to speak to the media and to direct all communications to the NICD, to which the NICD disputes\",\"A call on all citizens to refrain from making excessive purchases. It is important to understand that the supply of goods remains continuous, supply chains remain intact, and there is no need for stockpiling of any items. \",\" All social partners \\u2013 specifically government, business and labour \\u2013 need to jointly develop and implement measures to mitigate the economic effects of COVID-19. Companies in distress need to be assisted and jobs and livelihoods need to be preserved. \",\"The need to provide water to destitute communities\",\"a greater focus on prevention in the public transport system; \",\"consideration of various measures to support businesses, such as a UIF contribution holiday and accelerated processing of VAT refunds;\",\"a particular focus on food security, particularly for the poor; \",\"a proposal for the departments of Health and Defence to establish centres for testing, water distribution and services, especially in rural areas. \",\"City temporarily suspends new restrictions for\\u00a0water debt\\u00a0during\\u00a0COVID-19\\u00a0emergency: All other debt management actions continue\",\"Those who are showing any signs of being sick must stay at home. \",\"The Department of Health has also today made live, an online self-assessment tool which will help residents determine whether they need further, medical assessment.\\u00a0\",\"No sale of liquor during the following hours: 18:00 \\u2013 09:00 on weekdays and Saturdays and 13:00 \\u2013 09:00 on Sundays and all public holidays\",\"All on-consumption premises selling liquor, including taverns, restaurants and clubs may continue to operate ONLY if the following conditions are complied with:\",\"All liquor, opened, closed, finished or unfinished MUST be off the tables, and can\\u2019t be consumed, during the no-sale hours;\\nNo more than 50 people may be accommodated on the premises at the same time, including staff;\\nAdequate space must be available for social distancing which means 1 square meter per person; and\\nAll directions in respect of hygienic conditions and limitation of exposure to persons with COVID-19 must be adhered to.\",\"City closes beaches to advance social distancing\",\"A nation-wide lockdown will be enacted in terms of the Disaster Management Act from midnight on Thursday 26 March.\",\"The lockdown will last for 21 days until Midnight 16 April 2020.\",\"South Africans will not be allowed to leave their homes except under strictly controlled circumstances, such as to seek medical care, buy food, medicine and other supplies or to collect a social grant.\",\"Those exempt from the national lockdown include; health workers (public and private sectors), emergency personnel, security services (police, traffic officers, military) medical personnel, soldiers  and other persons necessary for our response to the pandemic.\",\"In addition those involved in the production, distribution and supply of food and basic goods, essential banking services, the maintenance of power, water and telecommunications services, laboratory services, and the provision of medical and hygiene products will be exempt.\",\"Temporary shelters meeting necessary hygiene standards will be identified for homeless people. \",\"Sites are also being identified for quarantine and self- isolation for people who cannot self-isolate at home\",\"All shops and businesses will be closed, except for pharmacies, laboratories, banks, essential financial and payment services- including the JSE- supermarkets, petrol stations and health care providers.\",\"Companies essential to the production and transportation of food, basic goods and medical supplies will remain open.\",\"Provision will be made for essential transport services to continue, including transport for essential staff and for patients who need to be managed elsewhere.\",\"As of Friday, 20 March 2020, the following facilities will be closed to members of the public:\",\"The Archives reading room will be closed. Researchers can still send through email or telephonic requests for assistance.\",\"Museums affiliated to the department will be closed.\",\"Cultural Facilities will be closed\",\"Heritage Western Cape remains open for applications but encourages members of the public to make applications electronically and engage with their offices via email rather than coming into the building.\",\"To assist with keeping residents\\u2019 safe the WCG has called on sport stakeholders to:\\n\\nCancel all public sporting events until further notice\\nCancel all federation and club sporting events which involve contact between communities and sports people\\nCancel all after school MOD and Neighbourhood School activities until schools re-open\\n\\n\",\"Energy and Climate Change Directorate to adhere to the decreed national lockdown, a reduced service in line with the movement restriction on\\nnon-essential services staff and the availability of spares and equipment will be implemented. \",\"All capital projects, with the exception of the essential maintenance work that is under way at the Steenbras pumped storage plant, will cease with immediate effect. The only service that will continue to be offered will be first line response to network faults and breakdowns.\",\"Repairs that are imperative from a safety perspective will be prioritised. \",\"Repairs on streetlights will be done only if, after an assessment, it is deemed to pose a safety risk for the\\ncommunity or electricity staff. \",\"Importantly, repairs to streetlights that are faulty as a result of vandalism and theft will not be prioritised\\nduring this period unless an assessment shows that not repairing it holds a safety risk for the community or\\nelectricity staff. \",\"This directorate will continue to do absolutely all it can to ensure that reliable electricity services are\\ndelivered.\",\"Customers are encouraged to continue to be energy wise and to have contingencies in place should Eskom need to implement load-shedding.\",\"No meter readings will be done during this period. \",\"Billings will be based on estimations done over the lockdown period compared to the usage over the same\\nperiod in 2019. After the lockdown period, normal billing procedures will resume. \"],\"Decision_Title\":[\"NICD: First Covid-19 case announced\",\"CCT: General workplace control measures\",\"CCT: General workplace control measures\",\"CCT: General workplace control measures\",\"WCG: First case of COVID-19 confirmed in the Western Cape\",\"WCG: First case of COVID-19 confirmed in the Western Cape\",\"NICD: Approval of Covid-19 tests\",\"Presidency: State of Disaster declared\",\"Presidency: State of Disaster declared\",\"Presidency: State of Disaster declared\",\"Presidency: State of Disaster declared\",\"Presidency: State of Disaster declared\",\"Presidency: State of Disaster declared\",\"Presidency: State of Disaster declared\",\"Presidency: State of Disaster declared\",\"CCT: City to close facilities to contain spread of COVID-19\",\"National Government: Press conference on Covid-19\",\"National Government: Press conference on Covid-19\",\"National Government: Press conference on Covid-19\",\"National Government: Press conference on Covid-19\",\"National Government: Press conference on Covid-19\",\"National Government: Press conference on Covid-19\",\"National Government: Press conference on Covid-19\",\"WCG: Western Cape last day of school is Wednesday 18 March\",\"City closes Green Point Park and Company\\u2019s Garden\",\"NICD: Clinician Hotline added\",\"Media alert: News 24 publishes article on information squeeze\",\"Media alert: News 24 publishes article on information squeeze\",\"Presidency: Statement by President Cyril Ramaphosa and leaders of political parties represented in Parliament on the Coronavirus outbreak, Tuynhuys, Cape Town\",\"Presidency: Statement by President Cyril Ramaphosa and leaders of political parties represented in Parliament on the Coronavirus outbreak, Tuynhuys, Cape Town\",\"Presidency: Statement by President Cyril Ramaphosa and leaders of political parties represented in Parliament on the Coronavirus outbreak, Tuynhuys, Cape Town\",\"Presidency: Statement by President Cyril Ramaphosa and leaders of political parties represented in Parliament on the Coronavirus outbreak, Tuynhuys, Cape Town\",\"Presidency: Statement by President Cyril Ramaphosa and leaders of political parties represented in Parliament on the Coronavirus outbreak, Tuynhuys, Cape Town\",\"Presidency: Statement by President Cyril Ramaphosa and leaders of political parties represented in Parliament on the Coronavirus outbreak, Tuynhuys, Cape Town\",\"Presidency: Statement by President Cyril Ramaphosa and leaders of political parties represented in Parliament on the Coronavirus outbreak, Tuynhuys, Cape Town\",\"City temporarily suspends new restrictions for\\u00a0water debt\\u00a0during\\u00a0COVID-19\\u00a0emergency: All other debt management actions continue\",\"WCG: More stringent measures to stop the spread\",\"WCG: More stringent measures to stop the spread\",\"WCG: Minister Fritz & WC Liquor Authority provide clarity on operating hours and conditions\",\"WCG: Minister Fritz & WC Liquor Authority provide clarity on operating hours and conditions\",\"WCG: Minister Fritz & WC Liquor Authority provide clarity on operating hours and conditions\",\"City closes beaches to advance social distancing\",\"Presidency: Statement by President Cyril Ramaphosa on escalation of measures to combat the Covid-19 epidemic, Union Buildings, Tshwane\",\"Presidency: Statement by President Cyril Ramaphosa on escalation of measures to combat the Covid-19 epidemic, Union Buildings, Tshwane\",\"Presidency: Statement by President Cyril Ramaphosa on escalation of measures to combat the Covid-19 epidemic, Union Buildings, Tshwane\",\"Presidency: Statement by President Cyril Ramaphosa on escalation of measures to combat the Covid-19 epidemic, Union Buildings, Tshwane\",\"Presidency: Statement by President Cyril Ramaphosa on escalation of measures to combat the Covid-19 epidemic, Union Buildings, Tshwane\",\"Presidency: Statement by President Cyril Ramaphosa on escalation of measures to combat the Covid-19 epidemic, Union Buildings, Tshwane\",\"Presidency: Statement by President Cyril Ramaphosa on escalation of measures to combat the Covid-19 epidemic, Union Buildings, Tshwane\",\"Presidency: Statement by President Cyril Ramaphosa on escalation of measures to combat the Covid-19 epidemic, Union Buildings, Tshwane\",\"Presidency: Statement by President Cyril Ramaphosa on escalation of measures to combat the Covid-19 epidemic, Union Buildings, Tshwane\",\"Presidency: Statement by President Cyril Ramaphosa on escalation of measures to combat the Covid-19 epidemic, Union Buildings, Tshwane\",\"WCG: DCAS' measures to stop the spread of Covid-19\",\"WCG: DCAS' measures to stop the spread of Covid-19\",\"WCG: DCAS' measures to stop the spread of Covid-19\",\"WCG: DCAS' measures to stop the spread of Covid-19\",\"WCG: DCAS' measures to stop the spread of Covid-19\",\"WCG: DCAS' measures to stop the spread of Covid-19\",\"City advises on further service impacts due to COVID-19\",\"City advises on further service impacts due to COVID-19\",\"City advises on further service impacts due to COVID-19\",\"City advises on further service impacts due to COVID-19\",\"City advises on further service impacts due to COVID-19\",\"City advises on further service impacts due to COVID-19\",\"City advises on further service impacts due to COVID-19\",\"City advises on further service impacts due to COVID-19\",\"City advises on further service impacts due to COVID-19\"],\"Entity\":[\"National Government\",\"Local Government (internal)\",\"Local Government (internal)\",\"Local Government (internal)\",\"Provincial Government\",\"Provincial Government\",\"National Government\",\"National Government\",\"National Government\",\"National Government\",\"National Government\",\"National Government\",\"National Government\",\"National Government\",\"National Government\",\"Local Government (external)\",\"National Government\",\"National Government\",\"National Government\",\"National Government\",\"National Government\",\"National Government\",\"National Government\",\"Provincial Government\",\"Local Government (External)\",\"National Government\",\"National Government\",\"National Government\",\"National Government\",\"National Government\",\"National Government\",\"National Government\",\"National Government\",\"National Government\",\"National Government\",\"Local Government (External)\",\"Provincial Government\",\"Provincial Government\",\"Provincial Government\",\"Provincial Government\",\"Provincial Government\",\"Local Government (External)\",\"National Government\",\"National Government\",\"National Government\",\"National Government\",\"National Government\",\"National Government\",\"National Government\",\"National Government\",\"National Government\",\"National Government\",\"Provincial Government\",\"Provincial Government\",\"Provincial Government\",\"Provincial Government\",\"Provincial Government\",\"Provincial Government\",\"Local Government (external)\",\"Local Government (external)\",\"Local Government (external)\",\"Local Government (external)\",\"Local Government (external)\",\"Local Government (external)\",\"Local Government (external)\",\"Local Government (external)\",\"Local Government (external)\"],\"Link\":[\"http://www.nicd.ac.za/first-case-of-covid-19-announced-an-update/\",\"http://cityweb.capetown.gov.za/en/Pages/displayEnforms.aspx?spid=11435\",\"http://cityweb.capetown.gov.za/en/Pages/displayEnforms.aspx?spid=11435\",\"http://cityweb.capetown.gov.za/en/Pages/displayEnforms.aspx?spid=11435\",\"https://www.westerncape.gov.za/news/first-case-covid-19-confirmed-western-cape\",\"https://www.westerncape.gov.za/news/first-case-covid-19-confirmed-western-cape\",\"https://twitter.com/nicd_sa/status/1238818508558995457\",\"http://www.thepresidency.gov.za/press-statements/statement-president-cyril-ramaphosa-measures-combat-covid-19-epidemic.\",\"http://www.thepresidency.gov.za/press-statements/statement-president-cyril-ramaphosa-measures-combat-covid-19-epidemic.\",\"http://www.thepresidency.gov.za/press-statements/statement-president-cyril-ramaphosa-measures-combat-covid-19-epidemic.\",\"http://www.thepresidency.gov.za/press-statements/statement-president-cyril-ramaphosa-measures-combat-covid-19-epidemic.\",\"http://www.thepresidency.gov.za/press-statements/statement-president-cyril-ramaphosa-measures-combat-covid-19-epidemic.\",\"http://www.thepresidency.gov.za/press-statements/statement-president-cyril-ramaphosa-measures-combat-covid-19-epidemic.\",\"http://www.thepresidency.gov.za/press-statements/statement-president-cyril-ramaphosa-measures-combat-covid-19-epidemic.\",\"http://www.thepresidency.gov.za/press-statements/statement-president-cyril-ramaphosa-measures-combat-covid-19-epidemic.\",\"https://www.capetown.gov.za/search?k=covid%2019\",\"https://www.dailymaverick.co.za/article/2020-03-16-national-disaster-explained-we-need-to-act-to-avoid-the-risk-of-overwhelming-the-health-services-zweli-mkhize/\",\"https://www.dailymaverick.co.za/article/2020-03-16-national-disaster-explained-we-need-to-act-to-avoid-the-risk-of-overwhelming-the-health-services-zweli-mkhize/\",\"https://www.dailymaverick.co.za/article/2020-03-16-national-disaster-explained-we-need-to-act-to-avoid-the-risk-of-overwhelming-the-health-services-zweli-mkhize/\",\"https://www.dailymaverick.co.za/article/2020-03-16-national-disaster-explained-we-need-to-act-to-avoid-the-risk-of-overwhelming-the-health-services-zweli-mkhize/\",\"https://www.dailymaverick.co.za/article/2020-03-16-national-disaster-explained-we-need-to-act-to-avoid-the-risk-of-overwhelming-the-health-services-zweli-mkhize/\",\"https://www.dailymaverick.co.za/article/2020-03-16-national-disaster-explained-we-need-to-act-to-avoid-the-risk-of-overwhelming-the-health-services-zweli-mkhize/\",\"https://www.dailymaverick.co.za/article/2020-03-16-national-disaster-explained-we-need-to-act-to-avoid-the-risk-of-overwhelming-the-health-services-zweli-mkhize/\",\"https://www.westerncape.gov.za/news/western-cape-last-day-school-wednesday-18-march\",\"https://www.capetown.gov.za/search?k=covid%2019\",\"https://twitter.com/nicd_sa/status/1240168077708472321\",\"https://www.news24.com/SouthAfrica/News/information-squeeze-covid-19-scientists-experts-in-sa-silenced-as-government-centralises-communication-20200318\",\"https://www.news24.com/SouthAfrica/News/information-squeeze-covid-19-scientists-experts-in-sa-silenced-as-government-centralises-communication-20200318\",\"http://www.thepresidency.gov.za/press-statements/statement-president-cyril-ramaphosa-and-leaders-political-parties-represented\",\"http://www.thepresidency.gov.za/press-statements/statement-president-cyril-ramaphosa-and-leaders-political-parties-represented\",\"http://www.thepresidency.gov.za/press-statements/statement-president-cyril-ramaphosa-and-leaders-political-parties-represented\",\"http://www.thepresidency.gov.za/press-statements/statement-president-cyril-ramaphosa-and-leaders-political-parties-represented\",\"http://www.thepresidency.gov.za/press-statements/statement-president-cyril-ramaphosa-and-leaders-political-parties-represented\",\"http://www.thepresidency.gov.za/press-statements/statement-president-cyril-ramaphosa-and-leaders-political-parties-represented\",\"http://www.thepresidency.gov.za/press-statements/statement-president-cyril-ramaphosa-and-leaders-political-parties-represented\",\"https://www.capetown.gov.za/search?k=covid%2019\",\"https://www.westerncape.gov.za/news/western-cape-government-advises-more-stringent-measures-stop-spread\",\"https://www.westerncape.gov.za/news/western-cape-government-advises-more-stringent-measures-stop-spread\",\"https://www.westerncape.gov.za/news/minister-fritz-wc-liquor-authority-provide-clarity-operating-hours\",\"https://www.westerncape.gov.za/news/minister-fritz-wc-liquor-authority-provide-clarity-operating-hours\",\"https://www.westerncape.gov.za/news/minister-fritz-wc-liquor-authority-provide-clarity-operating-hours\",\"https://www.capetown.gov.za/search?k=covid%2019\",\"http://www.thepresidency.gov.za/speeches/statement-president-cyril-ramaphosa-escalation-measures-combat-covid-19-epidemic%2C-union\",\"http://www.thepresidency.gov.za/speeches/statement-president-cyril-ramaphosa-escalation-measures-combat-covid-19-epidemic%2C-union\",\"http://www.thepresidency.gov.za/speeches/statement-president-cyril-ramaphosa-escalation-measures-combat-covid-19-epidemic%2C-union\",\"http://www.thepresidency.gov.za/speeches/statement-president-cyril-ramaphosa-escalation-measures-combat-covid-19-epidemic%2C-union\",\"http://www.thepresidency.gov.za/speeches/statement-president-cyril-ramaphosa-escalation-measures-combat-covid-19-epidemic%2C-union\",\"http://www.thepresidency.gov.za/speeches/statement-president-cyril-ramaphosa-escalation-measures-combat-covid-19-epidemic%2C-union\",\"http://www.thepresidency.gov.za/speeches/statement-president-cyril-ramaphosa-escalation-measures-combat-covid-19-epidemic%2C-union\",\"http://www.thepresidency.gov.za/speeches/statement-president-cyril-ramaphosa-escalation-measures-combat-covid-19-epidemic%2C-union\",\"http://www.thepresidency.gov.za/speeches/statement-president-cyril-ramaphosa-escalation-measures-combat-covid-19-epidemic%2C-union\",\"http://www.thepresidency.gov.za/speeches/statement-president-cyril-ramaphosa-escalation-measures-combat-covid-19-epidemic%2C-union\",\"https://www.westerncape.gov.za/news/dcas-measures-stop-spread-covid-19\",\"https://www.westerncape.gov.za/news/dcas-measures-stop-spread-covid-19\",\"https://www.westerncape.gov.za/news/dcas-measures-stop-spread-covid-19\",\"https://www.westerncape.gov.za/news/dcas-measures-stop-spread-covid-19\",\"https://www.westerncape.gov.za/news/dcas-measures-stop-spread-covid-19\",\"https://www.westerncape.gov.za/news/dcas-measures-stop-spread-covid-19\",\"https://resource.capetown.gov.za/documentcentre/Documents/Speeches%20and%20statements/24_March_2020_Service_Impacts_COVID-19.pdf\",\"https://resource.capetown.gov.za/documentcentre/Documents/Speeches%20and%20statements/24_March_2020_Service_Impacts_COVID-19.pdf\",\"https://resource.capetown.gov.za/documentcentre/Documents/Speeches%20and%20statements/24_March_2020_Service_Impacts_COVID-19.pdf\",\"https://resource.capetown.gov.za/documentcentre/Documents/Speeches%20and%20statements/24_March_2020_Service_Impacts_COVID-19.pdf\",\"https://resource.capetown.gov.za/documentcentre/Documents/Speeches%20and%20statements/24_March_2020_Service_Impacts_COVID-19.pdf\",\"https://resource.capetown.gov.za/documentcentre/Documents/Speeches%20and%20statements/24_March_2020_Service_Impacts_COVID-19.pdf\",\"https://resource.capetown.gov.za/documentcentre/Documents/Speeches%20and%20statements/24_March_2020_Service_Impacts_COVID-19.pdf\",\"https://resource.capetown.gov.za/documentcentre/Documents/Speeches%20and%20statements/24_March_2020_Service_Impacts_COVID-19.pdf\",\"https://resource.capetown.gov.za/documentcentre/Documents/Speeches%20and%20statements/24_March_2020_Service_Impacts_COVID-19.pdf\"],\"index\":[0,1,2,3,4,5,6,7,8,9,10,11,12,13,14,15,17,18,19,20,21,22,23,16,24,25,26,27,28,29,30,31,32,33,34,35,36,37,38,39,40,41,48,49,50,51,52,53,54,55,56,57,42,43,44,45,46,47,58,59,60,61,62,63,64,65,66],\"seq\":[0,0,1,2,0,1,0,0,1,2,3,4,5,6,7,0,1,2,3,4,5,6,7,8,0,1,2,3,4,5,6,7,8,9,10,0,0,1,0,1,2,0,0,1,2,3,4,5,6,7,8,9,10,11,12,13,14,15,0,1,2,3,4,5,6,7,8]},\"selected\":{\"id\":\"2609\",\"type\":\"Selection\"},\"selection_policy\":{\"id\":\"2610\",\"type\":\"UnionRenderers\"}},\"id\":\"2539\",\"type\":\"ColumnDataSource\"},{\"attributes\":{\"glyph_width\":12,\"items\":[{\"id\":\"2587\",\"type\":\"LegendItem\"}],\"label_text_font_size\":{\"value\":\"6pt\"},\"location\":\"top_center\",\"orientation\":\"horizontal\"},\"id\":\"2586\",\"type\":\"Legend\"},{\"attributes\":{\"fill_color\":{\"field\":\"Entity\",\"transform\":{\"id\":\"2563\",\"type\":\"CategoricalColorMapper\"}},\"line_color\":{\"value\":null},\"size\":{\"units\":\"screen\",\"value\":8},\"x\":{\"field\":\"Date\"},\"y\":{\"field\":\"seq\"}},\"id\":\"2565\",\"type\":\"Square\"},{\"attributes\":{\"label\":{\"field\":\"Entity\"},\"renderers\":[{\"id\":\"2567\",\"type\":\"GlyphRenderer\"}]},\"id\":\"2587\",\"type\":\"LegendItem\"},{\"attributes\":{\"data_source\":{\"id\":\"2539\",\"type\":\"ColumnDataSource\"},\"glyph\":{\"id\":\"2565\",\"type\":\"Square\"},\"hover_glyph\":null,\"muted_glyph\":null,\"nonselection_glyph\":{\"id\":\"2566\",\"type\":\"Square\"},\"selection_glyph\":null,\"view\":{\"id\":\"2568\",\"type\":\"CDSView\"}},\"id\":\"2567\",\"type\":\"GlyphRenderer\"},{\"attributes\":{\"callback\":null},\"id\":\"2542\",\"type\":\"DataRange1d\"},{\"attributes\":{\"source\":{\"id\":\"2539\",\"type\":\"ColumnDataSource\"}},\"id\":\"2568\",\"type\":\"CDSView\"},{\"attributes\":{\"callback\":null,\"tooltips\":\"  \\n                            <div>\\n                                <span style=\\\"font-size: 9px; \\n                                            font-weight: bold; \\n                                            font-family:sans-serif\\\">\\n                                    <time datetime=@Date>\\n                                       @Date   \\n                                    </time>\\n                                    \\n                                    \\n                                </span>\\n                            </div>\\n                            \\n                            <div>\\n                                <span style=\\\"font-size: 9px; \\n                                            font-family:sans-serif\\\">\\n                                            \\n                                    @Entity\\n                                    \\n                                </span>\\n                            </div>  \\n                            <div>\\n                                <span style=\\\"font-size: 12px;\\n                                            font-weight: bold;\\n                                            color:black;\\n                                            font-family:sans-serif\\\">\\n                                            \\n                                    @Decision_Title\\n                                    \\n                                </span>\\n                            </div> \\n                            <div>\\n                                <span style=\\\"font-size: 11px; \\n                                            font-family:sans-serif\\\">\\n                                            \\n                                    @Decision_Description\\n                                    \\n                                </span>\\n                            </div>\\n                            <div>\\n                                <span style=\\\"font-size: 9px;color:red; font-family:sans-serif\\\">\\n                                \\n                                    click on square to open link to article\\n                                    \\n                                </span>\\n                             </div>\\n                            \"},\"id\":\"2592\",\"type\":\"HoverTool\"},{\"attributes\":{},\"id\":\"2609\",\"type\":\"Selection\"},{\"attributes\":{\"factors\":[\"National Government\",\"Local Government (internal)\",\"Provincial Government\",\"Local Government (external)\",\"Local Government (External)\"],\"palette\":[\"#1b9e77\",\"#d95f02\",\"#7570b3\",\"#e7298a\",\"#66a61e\",\"#e6ab02\"]},\"id\":\"2563\",\"type\":\"CategoricalColorMapper\"},{\"attributes\":{\"days\":[\"%b-%d\"]},\"id\":\"2588\",\"type\":\"DatetimeTickFormatter\"},{\"attributes\":{\"url\":\"@Link\"},\"id\":\"2611\",\"type\":\"OpenURL\"},{\"attributes\":{},\"id\":\"2573\",\"type\":\"BasicTickFormatter\"},{\"attributes\":{\"callback\":null,\"end\":20,\"start\":-1},\"id\":\"2544\",\"type\":\"Range1d\"},{\"attributes\":{\"mantissas\":[1,2,5],\"max_interval\":500.0,\"num_minor_ticks\":0},\"id\":\"2574\",\"type\":\"AdaptiveTicker\"},{\"attributes\":{},\"id\":\"2610\",\"type\":\"UnionRenderers\"},{\"attributes\":{\"base\":60,\"mantissas\":[1,2,5,10,15,20,30],\"max_interval\":1800000.0,\"min_interval\":1000.0,\"num_minor_ticks\":0},\"id\":\"2575\",\"type\":\"AdaptiveTicker\"},{\"attributes\":{},\"id\":\"2546\",\"type\":\"LinearScale\"},{\"attributes\":{\"base\":24,\"mantissas\":[1,2,4,6,8,12],\"max_interval\":43200000.0,\"min_interval\":3600000.0,\"num_minor_ticks\":0},\"id\":\"2576\",\"type\":\"AdaptiveTicker\"},{\"attributes\":{},\"id\":\"2548\",\"type\":\"LinearScale\"},{\"attributes\":{\"days\":[1,2,3,4,5,6,7,8,9,10,11,12,13,14,15,16,17,18,19,20,21,22,23,24,25,26,27,28,29,30,31]},\"id\":\"2577\",\"type\":\"DaysTicker\"},{\"attributes\":{\"axis_label_text_font_size\":{\"value\":\"7pt\"},\"formatter\":{\"id\":\"2588\",\"type\":\"DatetimeTickFormatter\"},\"major_label_orientation\":0.85355,\"ticker\":{\"id\":\"2590\",\"type\":\"DaysTicker\"}},\"id\":\"2550\",\"type\":\"DatetimeAxis\"},{\"attributes\":{\"days\":[1,4,7,10,13,16,19,22,25,28]},\"id\":\"2578\",\"type\":\"DaysTicker\"},{\"attributes\":{\"num_minor_ticks\":5,\"tickers\":[{\"id\":\"2574\",\"type\":\"AdaptiveTicker\"},{\"id\":\"2575\",\"type\":\"AdaptiveTicker\"},{\"id\":\"2576\",\"type\":\"AdaptiveTicker\"},{\"id\":\"2577\",\"type\":\"DaysTicker\"},{\"id\":\"2578\",\"type\":\"DaysTicker\"},{\"id\":\"2579\",\"type\":\"DaysTicker\"},{\"id\":\"2580\",\"type\":\"DaysTicker\"},{\"id\":\"2581\",\"type\":\"MonthsTicker\"},{\"id\":\"2582\",\"type\":\"MonthsTicker\"},{\"id\":\"2583\",\"type\":\"MonthsTicker\"},{\"id\":\"2584\",\"type\":\"MonthsTicker\"},{\"id\":\"2585\",\"type\":\"YearsTicker\"}]},\"id\":\"2551\",\"type\":\"DatetimeTicker\"},{\"attributes\":{\"days\":[1,8,15,22]},\"id\":\"2579\",\"type\":\"DaysTicker\"},{\"attributes\":{\"grid_line_color\":null,\"ticker\":{\"id\":\"2551\",\"type\":\"DatetimeTicker\"}},\"id\":\"2554\",\"type\":\"Grid\"},{\"attributes\":{\"days\":[1,15]},\"id\":\"2580\",\"type\":\"DaysTicker\"},{\"attributes\":{\"formatter\":{\"id\":\"2573\",\"type\":\"BasicTickFormatter\"},\"ticker\":{\"id\":\"2556\",\"type\":\"BasicTicker\"},\"visible\":false},\"id\":\"2555\",\"type\":\"LinearAxis\"},{\"attributes\":{\"fill_alpha\":{\"value\":0.1},\"fill_color\":{\"value\":\"#1f77b4\"},\"line_alpha\":{\"value\":0.1},\"line_color\":{\"value\":\"#1f77b4\"},\"size\":{\"units\":\"screen\",\"value\":8},\"x\":{\"field\":\"Date\"},\"y\":{\"field\":\"seq\"}},\"id\":\"2566\",\"type\":\"Square\"},{\"attributes\":{\"months\":[0,1,2,3,4,5,6,7,8,9,10,11]},\"id\":\"2581\",\"type\":\"MonthsTicker\"},{\"attributes\":{},\"id\":\"2556\",\"type\":\"BasicTicker\"},{\"attributes\":{\"months\":[0,2,4,6,8,10]},\"id\":\"2582\",\"type\":\"MonthsTicker\"},{\"attributes\":{\"dimension\":1,\"ticker\":{\"id\":\"2556\",\"type\":\"BasicTicker\"}},\"id\":\"2559\",\"type\":\"Grid\"},{\"attributes\":{\"months\":[0,4,8]},\"id\":\"2583\",\"type\":\"MonthsTicker\"},{\"attributes\":{\"days\":[1,2,3,4,5,6,7,8,9,10,11,12,13,14,15,16,17,18,19,20,21,22,23,24,25,26,27,28,29,30,31,32,33,34,35,36,37,38,39,40,41,42,43,44,45,46,47,48,49,50,51,52,53,54,55,56,57,58,59,60,61,62,63,64,65,66]},\"id\":\"2590\",\"type\":\"DaysTicker\"}],\"root_ids\":[\"2540\"]},\"title\":\"Bokeh Application\",\"version\":\"1.4.0\"}};\n",
       "  var render_items = [{\"docid\":\"10ffdc64-6536-46cf-a8d1-4ccf895fa736\",\"roots\":{\"2540\":\"dd519dc8-a6fc-4f8d-80ff-ab66e0598577\"}}];\n",
       "  root.Bokeh.embed.embed_items_notebook(docs_json, render_items);\n",
       "\n",
       "  }\n",
       "  if (root.Bokeh !== undefined) {\n",
       "    embed_document(root);\n",
       "  } else {\n",
       "    var attempts = 0;\n",
       "    var timer = setInterval(function(root) {\n",
       "      if (root.Bokeh !== undefined) {\n",
       "        clearInterval(timer);\n",
       "        embed_document(root);\n",
       "      } else {\n",
       "        attempts++;\n",
       "        if (attempts > 100) {\n",
       "          clearInterval(timer);\n",
       "          console.log(\"Bokeh: ERROR: Unable to run BokehJS code because BokehJS library is missing\");\n",
       "        }\n",
       "      }\n",
       "    }, 10, root)\n",
       "  }\n",
       "})(window);"
      ],
      "application/vnd.bokehjs_exec.v0+json": ""
     },
     "metadata": {
      "application/vnd.bokehjs_exec.v0+json": {
       "id": "2540"
      }
     },
     "output_type": "display_data"
    }
   ],
   "source": [
    "output_file('ct-covid-dash-announce.html')\n",
    "\n",
    "source = ColumnDataSource(df_event_sort)\n",
    "\n",
    "entity = df_event_sort['Entity'].unique()\n",
    "\n",
    "earlier = df_event_sort['Date'].max() - df_event_sort['Date'].min()\n",
    "\n",
    "\n",
    "p = figure(\n",
    "           y_range=(0, 5+df_event_sort['seq'].max()),\n",
    "           plot_height=250, \n",
    "           title=None,\n",
    "           toolbar_location=None, \n",
    "           x_axis_type='datetime',\n",
    "           tools=\"tap\",\n",
    "           #plot_width=800,\n",
    "           sizing_mode='stretch_width',\n",
    "           )\n",
    "\n",
    "p.square(x='Date', \n",
    "         y='seq', \n",
    "         source=source, \n",
    "         legend_field='Entity',\n",
    "         fill_color=factor_cmap('Entity', palette=Dark2[6], factors=entity),\n",
    "         #fill_alpha=0.6,\n",
    "         line_color=None,\n",
    "         size=8)\n",
    "\n",
    "p.legend.label_text_font_size='6pt'\n",
    "\n",
    "p.xaxis.axis_label_text_font_size='5pt'\n",
    "p.xaxis.formatter =  DatetimeTickFormatter(days=[\"%b-%d\"])\n",
    "p.xgrid.grid_line_color = None\n",
    "p.xaxis.major_label_orientation = math.pi/4\n",
    "p.xaxis.ticker = DaysTicker(days=list(range(1, len(df_event_sort['Date']))))\n",
    "p.xaxis.axis_label_text_font_size = \"7pt\"\n",
    "\n",
    "p.y_range.start = -1\n",
    "p.yaxis.visible = False\n",
    "\n",
    "p.legend.orientation = \"horizontal\"\n",
    "p.legend.location = 'top_center' #(0,190)\n",
    "p.legend.glyph_width = 12\n",
    "\n",
    "# Add a hover tool referring to the formatted columns\n",
    "#hover = HoverTool(tooltips = [\n",
    "#                              ('Date', '@Date{%F}'),\n",
    "#                              ('From', '@Entity'),\n",
    "#                              ('Title','@Decision_Title'),\n",
    "#                              ('Content','@Decision_Description'),\n",
    "#                              # ('','@Link')\n",
    "#                             ],\n",
    "#                    formatters={'@Date': 'datetime'}\n",
    "#                 )\n",
    "\n",
    "hover = HoverTool(tooltips =\n",
    "                          \"\"\"  \n",
    "                            <div>\n",
    "                                <span style=\"font-size: 9px; \n",
    "                                            font-weight: bold; \n",
    "                                            font-family:sans-serif\">\n",
    "                                    <time datetime=@Date>\n",
    "                                       @Date   \n",
    "                                    </time>\n",
    "                                    \n",
    "                                    \n",
    "                                </span>\n",
    "                            </div>\n",
    "                            \n",
    "                            <div>\n",
    "                                <span style=\"font-size: 9px; \n",
    "                                            font-family:sans-serif\">\n",
    "                                            \n",
    "                                    @Entity\n",
    "                                    \n",
    "                                </span>\n",
    "                            </div>  \n",
    "                            <div>\n",
    "                                <span style=\"font-size: 12px;\n",
    "                                            font-weight: bold;\n",
    "                                            color:black;\n",
    "                                            font-family:sans-serif\">\n",
    "                                            \n",
    "                                    @Decision_Title\n",
    "                                    \n",
    "                                </span>\n",
    "                            </div> \n",
    "                            <div>\n",
    "                                <span style=\"font-size: 11px; \n",
    "                                            font-family:sans-serif\">\n",
    "                                            \n",
    "                                    @Decision_Description\n",
    "                                    \n",
    "                                </span>\n",
    "                            </div>\n",
    "                            <div>\n",
    "                                <span style=\"font-size: 9px;color:red; font-family:sans-serif\">\n",
    "                                \n",
    "                                    click on square to open link to article\n",
    "                                    \n",
    "                                </span>\n",
    "                             </div>\n",
    "                            \"\"\"\n",
    "                 )\n",
    "\n",
    "\n",
    "\n",
    "# Add the hover tool to the graph\n",
    "p.add_tools(hover)\n",
    "\n",
    "url = \"@Link\"\n",
    "taptool = p.select(type=TapTool)\n",
    "taptool.callback = OpenURL(url=url)\n",
    "\n",
    "show(p)\n"
   ]
  },
  {
   "cell_type": "code",
   "execution_count": null,
   "metadata": {},
   "outputs": [],
   "source": []
  }
 ],
 "metadata": {
  "kernelspec": {
   "display_name": "Python 3",
   "language": "python",
   "name": "python3"
  },
  "language_info": {
   "codemirror_mode": {
    "name": "ipython",
    "version": 3
   },
   "file_extension": ".py",
   "mimetype": "text/x-python",
   "name": "python",
   "nbconvert_exporter": "python",
   "pygments_lexer": "ipython3",
   "version": "3.6.8"
  }
 },
 "nbformat": 4,
 "nbformat_minor": 4
}
